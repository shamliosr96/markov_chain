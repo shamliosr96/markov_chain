{
 "cells": [
  {
   "cell_type": "code",
   "execution_count": 87,
   "metadata": {},
   "outputs": [
    {
     "name": "stdout",
     "output_type": "stream",
     "text": [
      "Love python.Work python.Fast python.My python world.Machine leraning using python.Vast subject with many python library.It contain numpy panda and many other packages.One of the most used language in the world of artificial intelligence is python.When you work in python you will love it.\n"
     ]
    }
   ],
   "source": [
    "import numpy as np\n",
    "\n",
    "# open and read the data set\n",
    "text = \"Love python.Work python.Fast python.My python world.Machine leraning using python.Vast subject with many python library.It contain numpy panda and many other packages.One of the most used language in the world of artificial intelligence is python.When you work in python you will love it.\"\n",
    "print(text)\n"
   ]
  },
  {
   "cell_type": "code",
   "execution_count": 88,
   "metadata": {},
   "outputs": [
    {
     "name": "stdout",
     "output_type": "stream",
     "text": [
      "['Love', 'python.Work', 'python.Fast', 'python.My', 'python', 'world.Machine', 'leraning', 'using', 'python.Vast', 'subject', 'with', 'many', 'python', 'library.It', 'contain', 'numpy', 'panda', 'and', 'many', 'other', 'packages.One', 'of', 'the', 'most', 'used', 'language', 'in', 'the', 'world', 'of', 'artificial', 'intelligence', 'is', 'python.When', 'you', 'work', 'in', 'python', 'you', 'will', 'love', 'it.']\n"
     ]
    }
   ],
   "source": [
    "split_text = text.split()\n",
    "print(split_text)"
   ]
  },
  {
   "cell_type": "code",
   "execution_count": 89,
   "metadata": {},
   "outputs": [
    {
     "name": "stdout",
     "output_type": "stream",
     "text": [
      "<generator object text_pairs at 0x7f5cf80309d0>\n",
      "42\n"
     ]
    }
   ],
   "source": [
    "# work with generator \n",
    "# here we are making pairs of keys and their followed words\n",
    "\n",
    "def text_pairs(split_text):\n",
    "    for i in range(len(split_text)-1):\n",
    "        yield(split_text[i],split_text[i+1])\n",
    "        #print(split_text[i],split_text[i+1])\n",
    "        \n",
    "pair = text_pairs(split_text)\n",
    "print(pair)\n",
    "print(len(split_text))"
   ]
  },
  {
   "cell_type": "code",
   "execution_count": 90,
   "metadata": {},
   "outputs": [],
   "source": [
    "text_dict = {}\n",
    "\n",
    "for word_1,word_2 in pair:\n",
    "    if word_1 in text_dict.keys():\n",
    "        text_dict[word_1].append(word_2)\n",
    "    else:\n",
    "        text_dict[word_1]=[word_2]\n",
    "\n",
    "# https://www.kite.com/python/answers/how-to-append-an-element-to-a-key-in-a-dictionary-with-python"
   ]
  },
  {
   "cell_type": "code",
   "execution_count": 107,
   "metadata": {},
   "outputs": [],
   "source": [
    "fword=np.random.choice(split_text)\n",
    "#print(fword)\n",
    " \n",
    "while fword.islower():\n",
    "    fword=np.random.choice(split_text)\n",
    "#print(fword)   \n",
    "markov_chain=[fword]"
   ]
  },
  {
   "cell_type": "code",
   "execution_count": 108,
   "metadata": {},
   "outputs": [
    {
     "name": "stdout",
     "output_type": "stream",
     "text": [
      "python.Fast python.My python you work in python library.It contain numpy panda and many other packages.One of the most used language in\n"
     ]
    }
   ],
   "source": [
    "nword=20\n",
    "for i in range(nword):\n",
    "    markov_chain.append(np.random.choice(text_dict[markov_chain[-1]]))\n",
    "\n",
    "print(' '.join(markov_chain))"
   ]
  },
  {
   "cell_type": "code",
   "execution_count": null,
   "metadata": {},
   "outputs": [],
   "source": []
  }
 ],
 "metadata": {
  "kernelspec": {
   "display_name": "Python 3",
   "language": "python",
   "name": "python3"
  },
  "language_info": {
   "codemirror_mode": {
    "name": "ipython",
    "version": 3
   },
   "file_extension": ".py",
   "mimetype": "text/x-python",
   "name": "python",
   "nbconvert_exporter": "python",
   "pygments_lexer": "ipython3",
   "version": "3.7.8"
  }
 },
 "nbformat": 4,
 "nbformat_minor": 4
}
